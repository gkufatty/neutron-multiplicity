{
 "cells": [
  {
   "cell_type": "code",
   "execution_count": 6,
   "metadata": {},
   "outputs": [],
   "source": [
    "import uproot\n",
    "import pandas as pd\n",
    "import matplotlib.pyplot as plt\n",
    "import numpy as np\n",
    "import sys\n",
    "\n",
    "import matplotlib.pyplot as plt\n",
    "plt.style.use('./cfg/my_custom_plot.mplstyle')\n",
    "\n",
    "# use these lines on top of your matplotlib script\n",
    "import matplotlib.ticker\n",
    "class MyLocator(matplotlib.ticker.AutoMinorLocator):\n",
    "    def __init__(self, n=4):\n",
    "        super().__init__(n=n)\n",
    "matplotlib.ticker.AutoMinorLocator = MyLocator        \n",
    " \n",
    "# Now use matplotlib as usual.       \n",
    "import matplotlib.pyplot as plt\n",
    "plt.rcParams[\"xtick.minor.visible\"] =  True\n",
    "plt.rcParams[\"ytick.minor.visible\"] =  True\n",
    "\n",
    "\n",
    "from utils import load_dataset, load_keys, ParticleCode, reco_backtrack\n",
    "# Load PDG Codes\n",
    "pdg_tab = ParticleCode()"
   ]
  },
  {
   "cell_type": "code",
   "execution_count": 7,
   "metadata": {},
   "outputs": [
    {
     "name": "stdout",
     "output_type": "stream",
     "text": [
      "Openning MiniRun 5 beta 2.a CAFs\n",
      "Reading  0  files\n",
      "Reading /global/cfs/cdirs/dune/www/data/2x2/simulation/productions/MiniRun5_1E19_RHC/MiniRun5_1E19_RHC.caf.beta2a/CAF.flat/0000000/MiniRun5_1E19_RHC.caf.0000000.CAF.flat.root\n"
     ]
    }
   ],
   "source": [
    "# Load datasets \n",
    "n_files = 0\n",
    "location = \"nersc\"\n",
    "df = load_dataset(n_files,location)"
   ]
  },
  {
   "cell_type": "code",
   "execution_count": 8,
   "metadata": {},
   "outputs": [],
   "source": [
    "entry = 15\n",
    "\n",
    "branches = [\n",
    "    \"rec.common.ixn.dlp.id\",\n",
    "    \"rec.common.ixn.dlp.part.dlp..length\",\n",
    "    \"rec.common.ixn.dlp.part.dlp..totarraysize\",\n",
    "    \"rec.common.ixn.dlp.part.dlp.E\",\n",
    "    \"rec.common.ixn.dlp.part.dlp.E_method\",\n",
    "    \"rec.common.ixn.dlp.part.dlp.contained\",\n",
    "    \"rec.common.ixn.dlp.part.dlp.end.x\",\n",
    "    \"rec.common.ixn.dlp.part.dlp.end.y\",\n",
    "    \"rec.common.ixn.dlp.part.dlp.end.z\",\n",
    "    \"rec.common.ixn.dlp.part.dlp.p.x\",\n",
    "    \"rec.common.ixn.dlp.part.dlp.p.y\",\n",
    "    \"rec.common.ixn.dlp.part.dlp.p.z\",\n",
    "    \"rec.common.ixn.dlp.part.dlp.pdg\",\n",
    "    \"rec.common.ixn.dlp.part.dlp.primary\",\n",
    "    \"rec.common.ixn.dlp.part.dlp.score\",\n",
    "    \"rec.common.ixn.dlp.part.dlp.start.x\",\n",
    "    \"rec.common.ixn.dlp.part.dlp.start.y\",\n",
    "    \"rec.common.ixn.dlp.part.dlp.start.z\",\n",
    "    \"rec.common.ixn.dlp.part.dlp.tgtA\",\n",
    "    \"rec.common.ixn.dlp.part.dlp.truth..length\",\n",
    "    \"rec.common.ixn.dlp.part.dlp.truth..totarraysize\",\n",
    "    \"rec.common.ixn.dlp.part.dlp.truth.ixn\",\n",
    "    \"rec.common.ixn.dlp.part.dlp.truth.part\",\n",
    "    \"rec.common.ixn.dlp.part.dlp.truth.type\",\n",
    "    \"rec.common.ixn.dlp.part.dlp.truth..idx\",\n",
    "    \"rec.common.ixn.dlp.part.dlp.truthOverlap..length\",\n",
    "    \"rec.common.ixn.dlp.part.dlp.truthOverlap..totarraysize\",\n",
    "    \"rec.common.ixn.dlp.part.dlp.truthOverlap\",\n",
    "    \"rec.common.ixn.dlp.part.dlp.truthOverlap..idx\",\n",
    "    \"rec.common.ixn.dlp.part.dlp..idx\",\n",
    "    \"rec.common.ixn.dlp.part.ndlp\",\n",
    "    \"rec.common.ixn.dlp.vtx.x\",\n",
    "    \"rec.common.ixn.dlp.vtx.y\",\n",
    "    \"rec.common.ixn.dlp.vtx.z\"\n",
    "]"
   ]
  },
  {
   "cell_type": "code",
   "execution_count": 9,
   "metadata": {},
   "outputs": [
    {
     "name": "stdout",
     "output_type": "stream",
     "text": [
      "rec.common.ixn.dlp.id:  [0 1 2]\n",
      "rec.common.ixn.dlp.part.dlp..length:  [2 1 1]\n",
      "rec.common.ixn.dlp.part.dlp..totarraysize:  4\n",
      "rec.common.ixn.dlp.part.dlp.E:  [0.03097635 0.03081834 0.02402645 0.13585804]\n",
      "rec.common.ixn.dlp.part.dlp.E_method:  [3 2 1 2]\n",
      "rec.common.ixn.dlp.part.dlp.contained:  [1 0 1 0]\n",
      "rec.common.ixn.dlp.part.dlp.end.x:  [   -inf 14.8539 52.0995 13.5237]\n",
      "rec.common.ixn.dlp.part.dlp.end.y:  [    -inf -38.3541   0.6651  60.9675]\n",
      "rec.common.ixn.dlp.part.dlp.end.z:  [    -inf -56.0901 -29.9295  64.5147]\n",
      "rec.common.ixn.dlp.part.dlp.p.x:  [0.00951085 0.00292651 0.19113107 0.00418343]\n",
      "rec.common.ixn.dlp.part.dlp.p.y:  [-0.02878961  0.0369299  -0.09556608 -0.01673374]\n",
      "rec.common.ixn.dlp.part.dlp.p.z:  [-0.00848265  0.09044346  0.          0.21649218]\n",
      "rec.common.ixn.dlp.part.dlp.pdg:  [  11  211 2212   13]\n",
      "rec.common.ixn.dlp.part.dlp.primary:  [0 1 0 1]\n",
      "rec.common.ixn.dlp.part.dlp.score:  [nan nan nan nan]\n",
      "rec.common.ixn.dlp.part.dlp.start.x:  [14.8539 13.0803 51.6561 13.5237]\n",
      "rec.common.ixn.dlp.part.dlp.start.y:  [-39.2409 -42.3447   1.1085  61.8543]\n",
      "rec.common.ixn.dlp.part.dlp.start.z:  [-56.0901 -64.5147 -29.9295  54.7599]\n",
      "rec.common.ixn.dlp.part.dlp.tgtA:  [40  0 40  0]\n",
      "rec.common.ixn.dlp.part.dlp.truth..length:  [1 1 0 1]\n",
      "rec.common.ixn.dlp.part.dlp.truth..totarraysize:  3\n",
      "rec.common.ixn.dlp.part.dlp.truth.ixn:  [0 0 1]\n",
      "rec.common.ixn.dlp.part.dlp.truth.part:  [1 1 1]\n",
      "rec.common.ixn.dlp.part.dlp.truth.type:  [3 1 1]\n",
      "rec.common.ixn.dlp.part.dlp.truth..idx:  [0 1 2 2]\n",
      "rec.common.ixn.dlp.part.dlp.truthOverlap..length:  [1 1 0 1]\n",
      "rec.common.ixn.dlp.part.dlp.truthOverlap..totarraysize:  3\n",
      "rec.common.ixn.dlp.part.dlp.truthOverlap:  [1. 1. 1.]\n",
      "rec.common.ixn.dlp.part.dlp.truthOverlap..idx:  [0 1 2 2]\n",
      "rec.common.ixn.dlp.part.dlp..idx:  [0 2 3]\n",
      "rec.common.ixn.dlp.part.ndlp:  [2 1 1]\n",
      "rec.common.ixn.dlp.vtx.x:  [13.0803 51.6561 13.5237]\n",
      "rec.common.ixn.dlp.vtx.y:  [-42.3447   1.1085  61.8543]\n",
      "rec.common.ixn.dlp.vtx.z:  [-64.5147 -29.9295  54.7599]\n"
     ]
    }
   ],
   "source": [
    "for branch in branches:\n",
    "    print(branch + \": \",df[branch].iloc[entry])"
   ]
  },
  {
   "cell_type": "code",
   "execution_count": 10,
   "metadata": {},
   "outputs": [
    {
     "name": "stdout",
     "output_type": "stream",
     "text": [
      "Event number  15\n",
      "Number of interactions in this event  3\n",
      "Printing info for interaction  0\n",
      "This interaction has 2 reco particles\n",
      "Particle 1 is a 211 primary\n"
     ]
    }
   ],
   "source": [
    "# Check how many particles are in each interaction\n",
    "# Iterate only over particles associated with each ixn \n",
    "\n",
    "# Get test event \n",
    "df_test = df.iloc[entry]\n",
    "\n",
    "n_ixn = len(df_test['rec.common.ixn.dlp.id'])\n",
    "ixn_index = 0\n",
    "\n",
    "\n",
    "print('Event number ', entry)\n",
    "reco_backtrack(df_test,ixn_index)"
   ]
  }
 ],
 "metadata": {
  "kernelspec": {
   "display_name": "lm_env",
   "language": "python",
   "name": "python3"
  },
  "language_info": {
   "codemirror_mode": {
    "name": "ipython",
    "version": 3
   },
   "file_extension": ".py",
   "mimetype": "text/x-python",
   "name": "python",
   "nbconvert_exporter": "python",
   "pygments_lexer": "ipython3",
   "version": "3.11.7"
  }
 },
 "nbformat": 4,
 "nbformat_minor": 2
}
